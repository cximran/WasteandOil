{
 "cells": [
  {
   "cell_type": "markdown",
   "metadata": {},
   "source": [
    "##Waste Data Over Time\n",
    "\n",
    "Imran Malek - imran@imranmalek.com\n",
    "\n",
    "Looking at Waste Data and Oil Prices\n",
    "\n",
    "Waste Data sourced from the US EPA\n",
    "\n",
    "Consumption Data sourced from InflationData.com - http://inflationdata.com/Inflation/Inflation_Rate/Historical_Oil_Prices_Table.asp"
   ]
  },
  {
   "cell_type": "code",
   "execution_count": 115,
   "metadata": {
    "collapsed": false
   },
   "outputs": [],
   "source": [
    "import requests,pandas as pd, plotly.plotly as py,json,re\n",
    "from plotly import tools\n",
    "from plotly.graph_objs import *\n",
    "\n",
    "def ConvertForPlots(dataframe,index_name,new_index_name): #Modified ConvertForPlots from previous notebook at https://github.com/cximran/Meat-Consumption-and-Agricultural-Stats/blob/master/Meat%20Consumption%20%26%20Land%20Stats.ipynb\n",
    "    dataframe.fillna('',inplace=True)\n",
    "    dataframe=dataframe.set_index(index_name).T\n",
    "    dataframe.reset_index(inplace=True)\n",
    "    dataframe.rename(columns={dataframe.columns[0]:'Year'},inplace=True)\n",
    "    dataframe.index.name=index_name\n",
    "    return(dataframe)\n",
    "waste_data=pd.read_excel(\"FH - Materials Generated.xlsx\")\n",
    "waste_data.drop(waste_data.columns[[6,7,9,10]],1,inplace=True)\n",
    "crude_oil_data=ConvertForPlots(pd.read_csv(\"crude_oil_prices.csv\"),'Year','Price')"
   ]
  },
  {
   "cell_type": "code",
   "execution_count": 116,
   "metadata": {
    "collapsed": false
   },
   "outputs": [],
   "source": [
    "#Applying the colors to be used in the plot, sourced colors from http://www.tayloredmktg.com/rgb/\n",
    "\n",
    "colors={}\n",
    "colors['Paper and Paperboard']='#ffe4b5'\n",
    "colors['Glass']='#f0f8ff'\n",
    "colors['Metals']='#bebebe'\n",
    "colors['Plastics']='#eeeee0'\n",
    "colors['Rubber and Leather']='#cdb79e'\n",
    "colors['Textiles']='#ffc0cb'\n",
    "colors['Wood']='#deb887'\n",
    "colors['Other']='#d8bfd8'\n",
    "colors['Food Waste']='#ff0000'\n",
    "colors['Yard Trimmings']='#3cb371'\n",
    "colors['Misc. Inorganic Wastes']='#483d8b'"
   ]
  },
  {
   "cell_type": "code",
   "execution_count": 117,
   "metadata": {
    "collapsed": false
   },
   "outputs": [],
   "source": [
    "waste_data=waste_data.set_index('Materials')#Setting the index to Materials for easy calculations on the data itself "
   ]
  },
  {
   "cell_type": "code",
   "execution_count": 118,
   "metadata": {
    "collapsed": false
   },
   "outputs": [],
   "source": [
    "#Populating the data traces inside of the bar graph\n",
    "wastetraces=[]\n",
    "for row in waste_data.index:\n",
    "    if row=='Food Waste': #setting a different legend group to specifically call out food waste \n",
    "        legend_group='AFood'\n",
    "    else:\n",
    "        legend_group='Everything Else'\n",
    "    wastetraces.append(\n",
    "        Bar(\n",
    "        x=waste_data.columns,\n",
    "        y=waste_data.loc[row].values,\n",
    "        name=row,\n",
    "        marker=Marker(color=colors[row.strip()],line=Line(width=0)),\n",
    "        legendgroup=legend_group\n",
    "   \n",
    "        )\n",
    "    \n",
    "    )\n",
    "wastedata=Data(wastetraces)"
   ]
  },
  {
   "cell_type": "code",
   "execution_count": 189,
   "metadata": {
    "collapsed": false
   },
   "outputs": [],
   "source": [
    "waste_composition_figure=Figure(data=wastedata,layout=Layout(barmode='stack',barnorm='percent',title='Waste in America - composition',yaxis=YAxis(tickformat='{:.2f}',hoverformat='.2f',title='% composition')))"
   ]
  },
  {
   "cell_type": "code",
   "execution_count": 187,
   "metadata": {
    "collapsed": false
   },
   "outputs": [],
   "source": [
    "#Generating the data for food waste and oil prices over time\n",
    "\n",
    "food_waste_time=Figure(data=[Scatter(\n",
    "                                        x=waste_data.columns,\n",
    "                                        y=waste_data.loc['Food Waste'].values,\n",
    "                                        name='Food Waste',\n",
    "                                        marker=Line(color='#ff0000')),\n",
    "        \n",
    "                            Scatter(\n",
    "                                        x=waste_data.columns,\n",
    "                                        y=[crude_oil_data[x][1] for x in waste_data.columns],\n",
    "                                        name='Crude Oil Price',\n",
    "                                        yaxis='y2',\n",
    "                                        marker=Line(color='#000000')\n",
    "                                )],\n",
    "                       layout=Layout(title='American food waste and oil prices',yaxis=YAxis(side='left',title='Food Waste (in thousands of tons)'),yaxis2=YAxis(side='right',overlaying='y',title='Crude oil price per barrel (inflation adjusted))',hoverformat='$.2f')))\n"
   ]
  },
  {
   "cell_type": "code",
   "execution_count": 181,
   "metadata": {
    "collapsed": false
   },
   "outputs": [],
   "source": [
    "#Populating the data traces inside of the line graph over time\n",
    " wastelinetraces=[]\n",
    "for row in waste_data.index:\n",
    "    if row=='Food Waste': #setting a different legend group to specifically call out food waste \n",
    "        legend_group='AFood'\n",
    "    else:\n",
    "        legend_group='Everything Else'\n",
    "    wastelinetraces.append(\n",
    "        Scatter(\n",
    "        x=waste_data.columns,\n",
    "        y=waste_data.loc[row].values,\n",
    "        name=row,\n",
    "        marker=Marker(color=colors[row.strip()],line=Line(width=0)),\n",
    "        legendgroup=legend_group\n",
    "   \n",
    "        )\n",
    "    \n",
    "    )\n",
    "wastelinedata=Data(wastelinetraces)\n",
    "waste_line_chart=Figure(data=wastelinedata,layout=Layout(title='Waste in America - over time',yaxis=YAxis(tickformat='{:.2f}',hoverformat='.2f',title='Amount of Waste (in thousands of tons)')))"
   ]
  },
  {
   "cell_type": "code",
   "execution_count": 186,
   "metadata": {
    "collapsed": false
   },
   "outputs": [
    {
     "data": {
      "text/html": [
       "<iframe id=\"igraph\" scrolling=\"no\" style=\"border:none;\"seamless=\"seamless\" src=\"https://plot.ly/~cximran/535.embed\" height=\"525px\" width=\"100%\"></iframe>"
      ],
      "text/plain": [
       "<plotly.tools.PlotlyDisplay object>"
      ]
     },
     "execution_count": 186,
     "metadata": {},
     "output_type": "execute_result"
    }
   ],
   "source": [
    "py.iplot(waste_line_chart,filename='Food Waste in America over time')\n",
    "py.iplot(waste_composition_figure,filename='Trash Composition in the US over time')\n",
    "py.iplot(food_waste_time,filename='Food Waste & Oil Prices over time in the US')"
   ]
  },
  {
   "cell_type": "code",
   "execution_count": null,
   "metadata": {
    "collapsed": false
   },
   "outputs": [],
   "source": []
  },
  {
   "cell_type": "code",
   "execution_count": null,
   "metadata": {
    "collapsed": true
   },
   "outputs": [],
   "source": []
  }
 ],
 "metadata": {
  "kernelspec": {
   "display_name": "Python 2",
   "language": "python",
   "name": "python2"
  },
  "language_info": {
   "codemirror_mode": {
    "name": "ipython",
    "version": 2
   },
   "file_extension": ".py",
   "mimetype": "text/x-python",
   "name": "python",
   "nbconvert_exporter": "python",
   "pygments_lexer": "ipython2",
   "version": "2.7.10"
  }
 },
 "nbformat": 4,
 "nbformat_minor": 0
}
